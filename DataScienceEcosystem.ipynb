{
 "cells": [
  {
   "cell_type": "markdown",
   "id": "96f1ca7b",
   "metadata": {},
   "source": [
    "# Data Science Tools and Ecosystem"
   ]
  },
  {
   "cell_type": "markdown",
   "id": "e7f46e00",
   "metadata": {},
   "source": [
    "In this notebook, Data Science Tools and Ecosystem are summarized."
   ]
  },
  {
   "cell_type": "markdown",
   "id": "b7d8f4f5",
   "metadata": {},
   "source": [
    "**Objective:**\n",
    "\n",
    "    - Popular Data Science Language\n",
    "    - Populat Data Science Libraries\n",
    "    - Data Science Tools\n",
    "    - Arthmetic Expressions\n",
    "    - Minutes-Hour Conversion"
   ]
  },
  {
   "cell_type": "markdown",
   "id": "7e2718f8",
   "metadata": {},
   "source": [
    "Some of the popular languages that Data Scientists use are:\n"
   ]
  },
  {
   "cell_type": "markdown",
   "id": "3c9470ab",
   "metadata": {},
   "source": [
    "1. Python\n",
    "2. R\n",
    "3. SQL\n",
    "4. JAVA"
   ]
  },
  {
   "cell_type": "markdown",
   "id": "162a95ae",
   "metadata": {},
   "source": [
    "Some of the commonly used libraries used by Data Scientists include:\n",
    "    \n"
   ]
  },
  {
   "cell_type": "markdown",
   "id": "4fefeb34",
   "metadata": {},
   "source": [
    "1. Numpy\n",
    "2. Pandas\n",
    "3. Matplotlib\n",
    "4. Scikit-Learn"
   ]
  },
  {
   "cell_type": "markdown",
   "id": "afe2eee9",
   "metadata": {},
   "source": [
    "| Data Science Tools |\n",
    "----------------------\n",
    "|Jupyter Notebook|\n",
    "|Spyder|\n",
    "|Pycharm|"
   ]
  },
  {
   "cell_type": "markdown",
   "id": "ac1545fa",
   "metadata": {},
   "source": [
    "### Below are a few examples of evaluating arithmetic expressions in Python\n",
    "1. 2+2\n",
    "2. 4-3\n",
    "3. 4*2"
   ]
  },
  {
   "cell_type": "code",
   "execution_count": 1,
   "id": "eb6e22cd",
   "metadata": {},
   "outputs": [
    {
     "data": {
      "text/plain": [
       "17"
      ]
     },
     "execution_count": 1,
     "metadata": {},
     "output_type": "execute_result"
    }
   ],
   "source": [
    "#This a simple arithmetic expression to mutiply then add integers\n",
    "(3*4)+5"
   ]
  },
  {
   "cell_type": "code",
   "execution_count": 4,
   "id": "3cbe64de",
   "metadata": {
    "scrolled": true
   },
   "outputs": [
    {
     "name": "stdout",
     "output_type": "stream",
     "text": [
      "3.3333333333333335\n"
     ]
    }
   ],
   "source": [
    "# Code to convert minutes into hour\n",
    "Minutes =200\n",
    "Hours = Minutes/60\n",
    "print(Hours)"
   ]
  },
  {
   "cell_type": "markdown",
   "id": "fe75f3ad",
   "metadata": {},
   "source": [
    "## Author\n",
    "Sumit Jain"
   ]
  },
  {
   "cell_type": "code",
   "execution_count": null,
   "id": "5958a116",
   "metadata": {},
   "outputs": [],
   "source": []
  }
 ],
 "metadata": {
  "kernelspec": {
   "display_name": "Python 3 (ipykernel)",
   "language": "python",
   "name": "python3"
  },
  "language_info": {
   "codemirror_mode": {
    "name": "ipython",
    "version": 3
   },
   "file_extension": ".py",
   "mimetype": "text/x-python",
   "name": "python",
   "nbconvert_exporter": "python",
   "pygments_lexer": "ipython3",
   "version": "3.11.3"
  }
 },
 "nbformat": 4,
 "nbformat_minor": 5
}
